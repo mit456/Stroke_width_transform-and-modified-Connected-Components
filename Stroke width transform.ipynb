{
 "cells": [
  {
   "cell_type": "code",
   "execution_count": 9,
   "metadata": {
    "collapsed": true
   },
   "outputs": [],
   "source": [
    "%matplotlib inline\n",
    "import pandas as pd\n",
    "import numpy as np\n",
    "import cv2\n",
    "import scipy\n",
    "import sys\n",
    "import math\n",
    "import matplotlib.pyplot as plt\n",
    "import time"
   ]
  },
  {
   "cell_type": "code",
   "execution_count": 10,
   "metadata": {
    "collapsed": true,
    "scrolled": true
   },
   "outputs": [],
   "source": [
    "# Stroke width transform - microsoft paper\n",
    "def stroke_width_transform(filename):\n",
    "    img = cv2.imread(filename,0)\n",
    "# initialise with infinite intensity at each pixel\n",
    "    swt_img = np.empty(img.shape)\n",
    "    swt_img[:]=np.infty\n",
    "\n",
    "    edges = cv2.Canny(img,175,320)  # find out the edges using canny detector\n",
    "\n",
    "    grad_x = cv2.Sobel(img,cv2.CV_64F,1,0,ksize=-1) # scharr filter\n",
    "    grad_y = cv2.Sobel(img,cv2.CV_64F,0,1,ksize=-1)\n",
    "    direction_y = grad_x/np.sqrt(grad_x**2 + grad_y**2) # normalised step\n",
    "    direction_x = grad_y/np.sqrt(grad_x**2 + grad_y**2)\n",
    "    user = input('bright text on dark background? Press \"y\" for yes and any other key for no.')\n",
    "    if user.lower() != 'y':\n",
    "        direction_y = -direction_y\n",
    "        direction_x = -direction_x\n",
    "\n",
    "\n",
    "    vectors = []\n",
    "    for y in range(img.shape[1]):\n",
    "        for x in range(img.shape[0]):\n",
    "            if edges[x,y]>0:\n",
    "                vector=[]\n",
    "                vector.append((x,y))\n",
    "                n=0\n",
    "                prev_x,prev_y = x,y\n",
    "                while True:\n",
    "                    n+=1\n",
    "                    if np.isnan(direction_x[x,y]) and np.isnan(direction_y[x,y]):\n",
    "                        break\n",
    "                    new_x,new_y = math.floor(x + direction_x[x,y]*n), math.floor(y + direction_y[x,y]*n)\n",
    "                    if new_x!=prev_x or new_y!=prev_y:    \n",
    "                        try:\n",
    "                            if edges[new_x,new_y]>0:\n",
    "                                vector.append((new_x,new_y))\n",
    "                                if np.arccos(-direction_x[new_x,new_y]*direction_x[x,y] - direction_y[new_x,new_y]*direction_y[x,y])<np.pi/2.0:\n",
    "                                    for a,b in vector:\n",
    "                                        swt_img[a,b]=min(np.linalg.norm((new_x-x,new_y-y)),swt_img[a,b])\n",
    "                                    vectors.append(vector)\n",
    "                                break\n",
    "                            else:\n",
    "                                vector.append((new_x,new_y))\n",
    "                        except IndexError:\n",
    "                            break\n",
    "                        prev_x,prev_y = new_x,new_y\n",
    "    for elem in vectors:\n",
    "        median = np.median([swt_img[a,b] for a,b in elem])\n",
    "        for a,b in elem:\n",
    "            swt_img[a,b] = min(swt_img[a,b],median)\n",
    "        \n",
    "    return swt_img\n",
    "\n",
    "# Connected component labelling for stroke width transform\n",
    "\n",
    "def connected_components(swt_im):\n",
    "    con_img = np.zeros(swt_im.shape)\n",
    "    con_list={}\n",
    "    rows = swt_im.shape[0]\n",
    "    cols = swt_im.shape[1]\n",
    "    n=1\n",
    "    for x in range(rows):\n",
    "        for y in range(cols):\n",
    "            if swt_im[x,y]<np.infty and swt_im[x,y]>0:\n",
    "                neigh = [(x,y-1),(x-1,y)]\n",
    "                neighbours=[]\n",
    "                for elem in neigh:\n",
    "                    if -1 not in elem:\n",
    "                        neighbours.append(elem)\n",
    "                l=[]\n",
    "                for i,j in neighbours:\n",
    "                    try:\n",
    "                        ratio = swt_im[x,y]/swt_im[i,j]\n",
    "                    except IndexError:\n",
    "                        continue\n",
    "                    if ratio<3.0 and 1/ratio<3.0:\n",
    "                        if con_img[i,j]>0 and con_img[i,j] not in l:\n",
    "                            l.append(con_img[i,j])\n",
    "\n",
    "                if len(l)<1:\n",
    "                    con_img[x,y]=n\n",
    "                    n+=1\n",
    "                elif len(l)>1:\n",
    "                    con_img[x,y] = min(l)\n",
    "                    if min(l) in con_list:\n",
    "                        con_list[min(l)].extend(l)\n",
    "                    else:\n",
    "                        con_list[min(l)]=l\n",
    "                else:\n",
    "                    con_img[x,y] = min(l)\n",
    "                    \n",
    "    for key,value in con_list.items():\n",
    "        for val in value:\n",
    "            con_img[con_img==val] = key\n",
    "    return con_img\n"
   ]
  },
  {
   "cell_type": "code",
   "execution_count": 11,
   "metadata": {},
   "outputs": [],
   "source": [
    "swt_img = np.array([1,1,0,0,0,1,1,1,0,0,2,2,0,2,0,1,0,0,0,0,3,4,4,4,0,0,0,5,5,5,5,0,0,0,0,0]).reshape(6,6)"
   ]
  },
  {
   "cell_type": "code",
   "execution_count": 12,
   "metadata": {},
   "outputs": [
    {
     "name": "stderr",
     "output_type": "stream",
     "text": [
      "/usr/local/lib/python3.6/site-packages/ipykernel_launcher.py:73: RuntimeWarning: divide by zero encountered in long_scalars\n"
     ]
    },
    {
     "data": {
      "text/plain": [
       "array([[ 1.,  1.,  0.,  0.,  0.,  2.],\n",
       "       [ 1.,  1.,  0.,  0.,  2.,  2.],\n",
       "       [ 0.,  1.,  0.,  4.,  0.,  0.],\n",
       "       [ 0.,  0.,  5.,  5.,  5.,  5.],\n",
       "       [ 0.,  0.,  0.,  5.,  5.,  5.],\n",
       "       [ 6.,  0.,  0.,  0.,  0.,  0.]])"
      ]
     },
     "execution_count": 12,
     "metadata": {},
     "output_type": "execute_result"
    }
   ],
   "source": [
    "connected_components(swt_img)"
   ]
  },
  {
   "cell_type": "code",
   "execution_count": 13,
   "metadata": {},
   "outputs": [
    {
     "data": {
      "text/plain": [
       "array([[1, 1, 0, 0, 0, 1],\n",
       "       [1, 1, 0, 0, 2, 2],\n",
       "       [0, 2, 0, 1, 0, 0],\n",
       "       [0, 0, 3, 4, 4, 4],\n",
       "       [0, 0, 0, 5, 5, 5],\n",
       "       [5, 0, 0, 0, 0, 0]])"
      ]
     },
     "execution_count": 13,
     "metadata": {},
     "output_type": "execute_result"
    }
   ],
   "source": [
    "swt_img"
   ]
  },
  {
   "cell_type": "code",
   "execution_count": 14,
   "metadata": {},
   "outputs": [
    {
     "data": {
      "text/plain": [
       "array([[1, 1, 0, 0, 0, 2],\n",
       "       [1, 1, 0, 0, 2, 2],\n",
       "       [0, 1, 0, 3, 0, 0],\n",
       "       [0, 0, 3, 3, 3, 3],\n",
       "       [0, 0, 0, 3, 3, 3],\n",
       "       [4, 0, 0, 0, 0, 0]], dtype=int32)"
      ]
     },
     "execution_count": 14,
     "metadata": {},
     "output_type": "execute_result"
    }
   ],
   "source": [
    "cv2.connectedComponents(np.uint8(swt_img),connectivity=4)[1]"
   ]
  },
  {
   "cell_type": "code",
   "execution_count": 149,
   "metadata": {
    "collapsed": true
   },
   "outputs": [],
   "source": [
    "# finding letters\n",
    "# def find_letters(con,swt):\n",
    "#     width = {}\n",
    "#     height = {}\n",
    "#     labels = np.unique(con[con>0])\n",
    "#     for label in labels:\n",
    "#         l = np.where(con==label)\n",
    "#         width[label],height[label] = max(l[0])-min(l[0]),max(l[1])-min(l[1])\n",
    "        \n",
    "#         if len(con[con==label])<10:\n",
    "#             con[con==label]=255\n",
    "            \n",
    "#         if width[label]<8 or height[label]<8:\n",
    "#             con[con==label]=255\n",
    "    \n",
    "#         if width[label]/height[label]<0.1 or width[label]/height[label]>10:\n",
    "#             con[con==label]=255\n",
    "    \n",
    "#         if width[label]/con.shape[1]>0.4 or height[label]/con.shape[0]>0.4:\n",
    "#             con[con==label]=255\n",
    "        \n",
    "#         diameter = np.sqrt(width[label]**2 + height[label]**2)\n",
    "#         med_stroke = np.median(swt[l])\n",
    "    \n",
    "#         if diameter/med_stroke>20:\n",
    "#             con[con==label]=255\n",
    "            \n",
    "#         if width[label]<10 or height[label]>300:\n",
    "#             con[con==label]=255\n",
    "            \n",
    "#         mu = np.mean(swt[l])\n",
    "#         mean_var_stroke = np.mean((swt[l]-mu)**2)\n",
    "#         if mean_var_stroke>20:\n",
    "#             con[con==label]=255\n",
    "\n",
    "    return con,width,height"
   ]
  },
  {
   "cell_type": "code",
   "execution_count": 140,
   "metadata": {},
   "outputs": [
    {
     "name": "stderr",
     "output_type": "stream",
     "text": [
      "/usr/local/lib/python3.6/site-packages/ipykernel_launcher.py:12: RuntimeWarning: invalid value encountered in true_divide\n",
      "  if sys.path[0] == '':\n",
      "/usr/local/lib/python3.6/site-packages/ipykernel_launcher.py:13: RuntimeWarning: invalid value encountered in true_divide\n",
      "  del sys.path[0]\n"
     ]
    },
    {
     "name": "stdout",
     "output_type": "stream",
     "text": [
      "bright text on dark background? Press \"y\" for yes and any other key for no.y\n"
     ]
    },
    {
     "name": "stderr",
     "output_type": "stream",
     "text": [
      "/usr/local/lib/python3.6/site-packages/ipykernel_launcher.py:37: RuntimeWarning: invalid value encountered in arccos\n"
     ]
    }
   ],
   "source": [
    "# image = '3.jpg'\n",
    "# swt = stroke_width_transform(image)\n",
    "# cc_img = connected_components(swt)\n"
   ]
  },
  {
   "cell_type": "code",
   "execution_count": 1,
   "metadata": {},
   "outputs": [],
   "source": [
    "# plt.imshow(swt)"
   ]
  },
  {
   "cell_type": "code",
   "execution_count": 2,
   "metadata": {},
   "outputs": [],
   "source": [
    "# cc_img = connected_components(swt)"
   ]
  },
  {
   "cell_type": "code",
   "execution_count": 3,
   "metadata": {},
   "outputs": [],
   "source": [
    "# plt.imshow(cc_img)"
   ]
  },
  {
   "cell_type": "code",
   "execution_count": 4,
   "metadata": {},
   "outputs": [],
   "source": [
    "# plt.imshow(find_letters(cc_img,swt)[0],'gray')"
   ]
  },
  {
   "cell_type": "code",
   "execution_count": 5,
   "metadata": {},
   "outputs": [],
   "source": [
    "# final_image,wid,hghts = find_letters(connected_components(swt),swt)\n",
    "# plt.figure(figsize=[20,10])\n",
    "# plt.subplot(1,3,1)\n",
    "# plt.imshow(cv2.imread(image,0))\n",
    "# plt.subplot(1,3,1)\n",
    "# plt.imshow(swt)\n",
    "# plt.subplot(1,3,2)\n",
    "# plt.imshow(cc_img,'gray')"
   ]
  },
  {
   "cell_type": "code",
   "execution_count": 21,
   "metadata": {
    "collapsed": true
   },
   "outputs": [],
   "source": [
    "# con_img = np.zeros(swt_img.shape)\n",
    "# con_list={}\n",
    "# rows = swt_img.shape[0]\n",
    "# cols = swt_img.shape[1]\n",
    "# n=1\n",
    "# for x in range(rows):\n",
    "#     for y in range(cols):\n",
    "#         if swt_img[x,y]<np.infty and swt_img[x,y]>0:\n",
    "#             neigh = [(x,y-1),(x-1,y)]\n",
    "#             neighbours=[]\n",
    "#             for elem in neigh:\n",
    "#                 if -1 not in elem:\n",
    "#                     neighbours.append(elem)\n",
    "#             l=[]\n",
    "#             for i,j in neighbours:\n",
    "#                 try:\n",
    "#                     ratio = swt_img[x,y]/swt_img[i,j]\n",
    "#                 except IndexError:\n",
    "#                     continue\n",
    "#                 if ratio<3.0 and 1/ratio<3.0:\n",
    "#                     if con_img[i,j]>0 and con_img[i,j] not in l:\n",
    "#                         l.append(con_img[i,j])\n",
    "\n",
    "#             if len(l)<1:\n",
    "#                 con_img[x,y]=n\n",
    "#                 n+=1\n",
    "#             elif len(l)>1:\n",
    "#                 con_img[x,y] = min(l)\n",
    "#                 if min(l) in con_list:\n",
    "#                     con_list[min(l)].extend(l)\n",
    "#                 else:\n",
    "#                     con_list[min(l)]=l\n",
    "#             else:\n",
    "#                 con_img[x,y] = min(l)\n",
    "# for key,value in con_list.items():\n",
    "#     for val in value:\n",
    "#         con_img[con_img==val] = key"
   ]
  },
  {
   "cell_type": "markdown",
   "metadata": {},
   "source": []
  },
  {
   "cell_type": "markdown",
   "metadata": {},
   "source": []
  },
  {
   "cell_type": "code",
   "execution_count": null,
   "metadata": {
    "collapsed": true
   },
   "outputs": [],
   "source": []
  }
 ],
 "metadata": {
  "kernelspec": {
   "display_name": "Python 3",
   "language": "python",
   "name": "python3"
  },
  "language_info": {
   "codemirror_mode": {
    "name": "ipython",
    "version": 3
   },
   "file_extension": ".py",
   "mimetype": "text/x-python",
   "name": "python",
   "nbconvert_exporter": "python",
   "pygments_lexer": "ipython3",
   "version": "3.6.2"
  }
 },
 "nbformat": 4,
 "nbformat_minor": 2
}
